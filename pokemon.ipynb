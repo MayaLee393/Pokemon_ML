{
 "cells": [
  {
   "cell_type": "markdown",
   "metadata": {},
   "source": [
    "# Names: Austin He, Maya Lee, Kevin Barcenas Martinez, Luis Gamino\n"
   ]
  },
  {
   "cell_type": "markdown",
   "metadata": {},
   "source": [
    "# Pokemon\n",
    "\n",
    "In this project we will be..."
   ]
  },
  {
   "cell_type": "code",
   "execution_count": 1,
   "metadata": {},
   "outputs": [
    {
     "data": {
      "text/plain": [
       "'2.2.2'"
      ]
     },
     "execution_count": 1,
     "metadata": {},
     "output_type": "execute_result"
    }
   ],
   "source": [
    "# Standard Headers\n",
    "# You may add additional headers here if needed\n",
    "import pandas as pd\n",
    "import matplotlib.pyplot as plt\n",
    "from sklearn.preprocessing import StandardScaler\n",
    "from sklearn.decomposition import PCA\n",
    "\n",
    "# Enable inline mode for matplotlib so that Jupyter displays graphs\n",
    "%matplotlib inline\n",
    "\n",
    "# print your pandas version\n",
    "pd.__version__ "
   ]
  },
  {
   "cell_type": "markdown",
   "metadata": {},
   "source": [
    "# Part 1: Data cleaning, data exploration, feature engineering, etc."
   ]
  },
  {
   "cell_type": "code",
   "execution_count": null,
   "metadata": {},
   "outputs": [
    {
     "name": "stdout",
     "output_type": "stream",
     "text": [
      "          Image  Index                    Name Type 1  Type 2  Total  HP  \\\n",
      "0  images/1.png      1               Bulbasaur  Grass  Poison    318  45   \n",
      "1  images/2.png      2                 Ivysaur  Grass  Poison    405  60   \n",
      "2  images/3.png      3                Venusaur  Grass  Poison    525  80   \n",
      "3  images/4.png      3  Venusaur Mega Venusaur  Grass  Poison    625  80   \n",
      "4  images/5.png      4              Charmander   Fire     NaN    309  39   \n",
      "\n",
      "   Attack  Defense  SP. Atk.  SP. Def  Speed  \n",
      "0      49       49        65       65     45  \n",
      "1      62       63        80       80     60  \n",
      "2      82       83       100      100     80  \n",
      "3     100      123       122      120     80  \n",
      "4      52       43        60       50     65  \n"
     ]
    }
   ],
   "source": [
    "data = pd.read_csv('pokedex.csv', skipinitialspace=True)\n",
    "print(data.head())"
   ]
  },
  {
   "cell_type": "markdown",
   "metadata": {},
   "source": [
    "# Part 2: Modeling"
   ]
  },
  {
   "cell_type": "markdown",
   "metadata": {},
   "source": [
    "# Part 3: Results and analysis"
   ]
  }
 ],
 "metadata": {
  "kernelspec": {
   "display_name": "base",
   "language": "python",
   "name": "python3"
  },
  "language_info": {
   "codemirror_mode": {
    "name": "ipython",
    "version": 3
   },
   "file_extension": ".py",
   "mimetype": "text/x-python",
   "name": "python",
   "nbconvert_exporter": "python",
   "pygments_lexer": "ipython3",
   "version": "3.12.4"
  }
 },
 "nbformat": 4,
 "nbformat_minor": 2
}
